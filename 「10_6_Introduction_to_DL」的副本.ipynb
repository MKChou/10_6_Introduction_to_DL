{
  "nbformat": 4,
  "nbformat_minor": 0,
  "metadata": {
    "colab": {
      "name": "「10/6 Introduction to DL」的副本",
      "provenance": [],
      "include_colab_link": true
    },
    "kernelspec": {
      "name": "python3",
      "display_name": "Python 3"
    },
    "language_info": {
      "name": "python"
    }
  },
  "cells": [
    {
      "cell_type": "markdown",
      "metadata": {
        "id": "view-in-github",
        "colab_type": "text"
      },
      "source": [
        "<a href=\"https://colab.research.google.com/github/MKChou/10_6_Introduction_to_DL/blob/main/%E3%80%8C10_6_Introduction_to_DL%E3%80%8D%E7%9A%84%E5%89%AF%E6%9C%AC.ipynb\" target=\"_parent\"><img src=\"https://colab.research.google.com/assets/colab-badge.svg\" alt=\"Open In Colab\"/></a>"
      ]
    },
    {
      "cell_type": "markdown",
      "metadata": {
        "id": "cEObDuS-dFf1"
      },
      "source": [
        "# Import packages and check TF version"
      ]
    },
    {
      "cell_type": "code",
      "metadata": {
        "colab": {
          "base_uri": "https://localhost:8080/"
        },
        "id": "4HX5UJVdLCe5",
        "outputId": "301a5a11-6b07-4d0a-84dd-d521e85d04ab"
      },
      "source": [
        "import numpy as np\n",
        "import tensorflow as tf\n",
        "import matplotlib.pyplot as plt\n",
        "print(\"TensorFlow version:\", tf.__version__)"
      ],
      "execution_count": 11,
      "outputs": [
        {
          "output_type": "stream",
          "name": "stdout",
          "text": [
            "TensorFlow version: 2.8.2\n"
          ]
        }
      ]
    },
    {
      "cell_type": "markdown",
      "metadata": {
        "id": "aEBlMscUdP-0"
      },
      "source": [
        "# Loading MNIST dataset"
      ]
    },
    {
      "cell_type": "code",
      "metadata": {
        "id": "VzCvseiHMVDG"
      },
      "source": [
        "mnist = tf.keras.datasets.mnist\n",
        "\n",
        "(x_train, y_train), (x_test, y_test) = mnist.load_data()\n",
        "x_train, x_test = x_train / 255.0, x_test / 255.0"
      ],
      "execution_count": 15,
      "outputs": []
    },
    {
      "cell_type": "markdown",
      "metadata": {
        "id": "K82w01TjdcvX"
      },
      "source": [
        "#  Example of loading the mnist dataset"
      ]
    },
    {
      "cell_type": "code",
      "metadata": {
        "colab": {
          "base_uri": "https://localhost:8080/",
          "height": 302
        },
        "id": "EYfwj-hQNrF8",
        "outputId": "f0ecfaee-89fe-49eb-8663-2be40d2cf06b"
      },
      "source": [
        "# summarize loaded dataset\n",
        "print('Train: X=%s, y=%s' % (x_train.shape, y_train.shape))\n",
        "print('Test: X=%s, y=%s' % (x_test.shape, y_test.shape))\n",
        "# plot first few images of training set\n",
        "for i in range(9):\n",
        "\t# define subplot\n",
        "\tplt.subplot(330 + 1 + i)\n",
        "\t# plot raw pixel data\n",
        "\tplt.imshow(x_train[i], cmap=plt.get_cmap('gray'))\n",
        "# show the figure\n",
        "plt.show()"
      ],
      "execution_count": 16,
      "outputs": [
        {
          "output_type": "stream",
          "name": "stdout",
          "text": [
            "Train: X=(60000, 28, 28), y=(60000,)\n",
            "Test: X=(10000, 28, 28), y=(10000,)\n"
          ]
        },
        {
          "output_type": "display_data",
          "data": {
            "text/plain": [
              "<Figure size 432x288 with 9 Axes>"
            ],
            "image/png": "[encoded data removed]"
          },
          "metadata": {
            "needs_background": "light"
          }
        }
      ]
    },
    {
      "cell_type": "markdown",
      "metadata": {
        "id": "uhEZ0k_lfSKf"
      },
      "source": [
        "# Build a simple MultiLayer Perceptron"
      ]
    },
    {
      "cell_type": "code",
      "metadata": {
        "id": "PlMklXv1MXWV"
      },
      "source": [
        "model = tf.keras.models.Sequential([\n",
        "  tf.keras.layers.Flatten(input_shape=(28, 28)),\n",
        "  tf.keras.layers.Dense(128, activation='relu'),\n",
        "  tf.keras.layers.Dropout(0.2),\n",
        "  tf.keras.layers.Dense(10)\n",
        "])"
      ],
      "execution_count": 18,
      "outputs": []
    },
    {
      "cell_type": "markdown",
      "metadata": {
        "id": "B4NPoGAAfr1N"
      },
      "source": [
        "# Summarize and Plot model"
      ]
    },
    {
      "cell_type": "code",
      "metadata": {
        "colab": {
          "base_uri": "https://localhost:8080/"
        },
        "id": "OnGQnG1m1Gza",
        "outputId": "448c396b-ff0d-41f9-e477-a7b8d0766ecc"
      },
      "source": [
        "model.summary()"
      ],
      "execution_count": 19,
      "outputs": [
        {
          "output_type": "stream",
          "name": "stdout",
          "text": [
            "Model: \"sequential_1\"\n",
            "_________________________________________________________________\n",
            " Layer (type)                Output Shape              Param #   \n",
            "=================================================================\n",
            " flatten_1 (Flatten)         (None, 784)               0         \n",
            "                                                                 \n",
            " dense_2 (Dense)             (None, 128)               100480    \n",
            "                                                                 \n",
            " dropout_1 (Dropout)         (None, 128)               0         \n",
            "                                                                 \n",
            " dense_3 (Dense)             (None, 10)                1290      \n",
            "                                                                 \n",
            "=================================================================\n",
            "Total params: 101,770\n",
            "Trainable params: 101,770\n",
            "Non-trainable params: 0\n",
            "_________________________________________________________________\n"
          ]
        }
      ]
    },
    {
      "cell_type": "code",
      "metadata": {
        "colab": {
          "base_uri": "https://localhost:8080/",
          "height": 533
        },
        "id": "zkYNd5jh02lY",
        "outputId": "87fe9b31-27a2-4e88-d00e-bbe0b3f50fea"
      },
      "source": [
        "tf.keras.utils.plot_model(model, to_file=\"Computational_Graph.png\", show_shapes=True)"
      ],
      "execution_count": 20,
      "outputs": [
        {
          "output_type": "execute_result",
          "data": {
            "image/png": "[encoded data removed]",
            "text/plain": [
              "<IPython.core.display.Image object>"
            ]
          },
          "metadata": {},
          "execution_count": 20
        }
      ]
    },
    {
      "cell_type": "markdown",
      "metadata": {
        "id": "lR8IaYzdiJn3"
      },
      "source": [
        "# Prediction and check parameters out"
      ]
    },
    {
      "cell_type": "code",
      "metadata": {
        "colab": {
          "base_uri": "https://localhost:8080/"
        },
        "id": "s4SHyR2qMdZ8",
        "outputId": "7b9aa8fb-b41b-408e-93b6-40970795af8d"
      },
      "source": [
        "predictions = model(x_train[:1]).numpy()\n",
        "predictions"
      ],
      "execution_count": 21,
      "outputs": [
        {
          "output_type": "execute_result",
          "data": {
            "text/plain": [
              "array([[-0.6568295 ,  0.15896285, -0.366385  ,  0.12572461, -0.22051749,\n",
              "         1.1355449 ,  0.8596511 , -0.18333893, -0.5266255 , -0.3141402 ]],\n",
              "      dtype=float32)"
            ]
          },
          "metadata": {},
          "execution_count": 21
        }
      ]
    },
    {
      "cell_type": "code",
      "metadata": {
        "colab": {
          "base_uri": "https://localhost:8080/"
        },
        "id": "vqjTFbgkMgGJ",
        "outputId": "70475821-9e4e-45e5-a238-dfc364f3c121"
      },
      "source": [
        "tf.nn.softmax(predictions).numpy()"
      ],
      "execution_count": 22,
      "outputs": [
        {
          "output_type": "execute_result",
          "data": {
            "text/plain": [
              "array([[0.04339286, 0.09810981, 0.0580172 , 0.09490241, 0.06712838,\n",
              "        0.26051733, 0.19770491, 0.0696711 , 0.04942711, 0.06112887]],\n",
              "      dtype=float32)"
            ]
          },
          "metadata": {},
          "execution_count": 22
        }
      ]
    },
    {
      "cell_type": "code",
      "metadata": {
        "id": "Th9kfA4yMiqY"
      },
      "source": [
        "loss_fn = tf.keras.losses.SparseCategoricalCrossentropy(from_logits=True)"
      ],
      "execution_count": 25,
      "outputs": []
    },
    {
      "cell_type": "code",
      "metadata": {
        "colab": {
          "base_uri": "https://localhost:8080/"
        },
        "id": "0PRWi5fJMjv3",
        "outputId": "df2cfc18-eb8f-4d93-ec5e-2ac81f1d3b22"
      },
      "source": [
        "loss_fn(y_train[:1], predictions).numpy()"
      ],
      "execution_count": 26,
      "outputs": [
        {
          "output_type": "execute_result",
          "data": {
            "text/plain": [
              "1.3450859"
            ]
          },
          "metadata": {},
          "execution_count": 26
        }
      ]
    },
    {
      "cell_type": "markdown",
      "metadata": {
        "id": "3a6g3A7diVm0"
      },
      "source": [
        "# Compile model before using it"
      ]
    },
    {
      "cell_type": "code",
      "metadata": {
        "id": "947vs-viMl6L"
      },
      "source": [
        "model.compile(optimizer='adam',\n",
        "              loss=loss_fn,\n",
        "              metrics=['accuracy'])"
      ],
      "execution_count": 28,
      "outputs": []
    },
    {
      "cell_type": "markdown",
      "metadata": {
        "id": "VEQ8afbaj_Eq"
      },
      "source": [
        "[More details about SparseCategoricalCrossentropy](https://datascience.stackexchange.com/questions/73093/what-does-from-logits-true-do-in-sparsecategoricalcrossentropy-loss-function)"
      ]
    },
    {
      "cell_type": "code",
      "metadata": {
        "colab": {
          "base_uri": "https://localhost:8080/"
        },
        "id": "ss5s6YqYMoh1",
        "outputId": "a7ed6c75-0079-4af3-dd0c-b46c8c1fdcdf"
      },
      "source": [
        "model.fit(x_train, y_train, epochs=5)"
      ],
      "execution_count": 29,
      "outputs": [
        {
          "output_type": "stream",
          "name": "stdout",
          "text": [
            "Epoch 1/5\n",
            "1875/1875 [==============================] - 5s 2ms/step - loss: 0.2929 - accuracy: 0.9144\n",
            "Epoch 2/5\n",
            "1875/1875 [==============================] - 6s 3ms/step - loss: 0.1407 - accuracy: 0.9579\n",
            "Epoch 3/5\n",
            "1875/1875 [==============================] - 4s 2ms/step - loss: 0.1039 - accuracy: 0.9686\n",
            "Epoch 4/5\n",
            "1875/1875 [==============================] - 4s 2ms/step - loss: 0.0860 - accuracy: 0.9732\n",
            "Epoch 5/5\n",
            "1875/1875 [==============================] - 4s 2ms/step - loss: 0.0735 - accuracy: 0.9766\n"
          ]
        },
        {
          "output_type": "execute_result",
          "data": {
            "text/plain": [
              "<keras.callbacks.History at 0x7f61a95a7590>"
            ]
          },
          "metadata": {},
          "execution_count": 29
        }
      ]
    },
    {
      "cell_type": "markdown",
      "metadata": {
        "id": "AkghNtOHif2j"
      },
      "source": [
        "# Evaluate model with training set"
      ]
    },
    {
      "cell_type": "code",
      "metadata": {
        "colab": {
          "base_uri": "https://localhost:8080/"
        },
        "id": "x_sjUAOhMwnl",
        "outputId": "79293557-0fc7-4a7c-abeb-77f5ba57e7f0"
      },
      "source": [
        "model.evaluate(x_test,  y_test, verbose=2)"
      ],
      "execution_count": 30,
      "outputs": [
        {
          "output_type": "stream",
          "name": "stdout",
          "text": [
            "313/313 - 1s - loss: 0.0810 - accuracy: 0.9755 - 504ms/epoch - 2ms/step\n"
          ]
        },
        {
          "output_type": "execute_result",
          "data": {
            "text/plain": [
              "[0.0809871256351471, 0.9754999876022339]"
            ]
          },
          "metadata": {},
          "execution_count": 30
        }
      ]
    },
    {
      "cell_type": "markdown",
      "metadata": {
        "id": "Fphnj9Gcim7L"
      },
      "source": [
        "# Rebuild a model based on a pretrained model"
      ]
    },
    {
      "cell_type": "code",
      "metadata": {
        "id": "yDX6FNGiM0RN"
      },
      "source": [
        "probability_model = tf.keras.Sequential([\n",
        "  model,\n",
        "  tf.keras.layers.Softmax()\n",
        "])"
      ],
      "execution_count": 31,
      "outputs": []
    },
    {
      "cell_type": "code",
      "metadata": {
        "id": "0DyX_UXzgeK_"
      },
      "source": [
        "probability_model.compile(optimizer='adam',\n",
        "              loss=loss_fn,\n",
        "              metrics=['accuracy'])"
      ],
      "execution_count": 32,
      "outputs": []
    },
    {
      "cell_type": "code",
      "metadata": {
        "colab": {
          "base_uri": "https://localhost:8080/"
        },
        "id": "Rfr4_IIvM2Xd",
        "outputId": "48b6af65-416d-4308-a5bd-359703fb89d5"
      },
      "source": [
        "probability_model(x_test[:5])"
      ],
      "execution_count": 33,
      "outputs": [
        {
          "output_type": "execute_result",
          "data": {
            "text/plain": [
              "<tf.Tensor: shape=(5, 10), dtype=float32, numpy=\n",
              "array([[2.25172592e-08, 1.47972905e-08, 3.46663069e-06, 1.11239833e-05,\n",
              "        6.04864986e-12, 5.52260859e-09, 3.47642786e-13, 9.99979258e-01,\n",
              "        6.56899246e-08, 6.16865600e-06],\n",
              "       [1.90969773e-09, 8.63724927e-05, 9.99908209e-01, 5.32116610e-06,\n",
              "        3.88982791e-13, 1.46880481e-07, 4.83157230e-08, 1.33867215e-13,\n",
              "        8.70046790e-09, 7.66423437e-13],\n",
              "       [2.52959779e-07, 9.98425245e-01, 1.89143379e-04, 1.03852608e-05,\n",
              "        1.10762439e-05, 2.76385690e-05, 4.90976890e-06, 1.08295120e-03,\n",
              "        2.48112425e-04, 3.43057138e-07],\n",
              "       [9.98890936e-01, 5.60790397e-07, 2.14669752e-04, 3.10652308e-06,\n",
              "        4.52447784e-05, 8.69592441e-06, 1.01888363e-04, 2.41784855e-05,\n",
              "        1.84797187e-07, 7.10600114e-04],\n",
              "       [8.80071411e-07, 1.16724075e-09, 2.14710076e-06, 8.94590642e-07,\n",
              "        9.95756924e-01, 9.58300959e-08, 5.46044885e-06, 4.05795407e-04,\n",
              "        1.25976203e-06, 3.82655696e-03]], dtype=float32)>"
            ]
          },
          "metadata": {},
          "execution_count": 33
        }
      ]
    },
    {
      "cell_type": "code",
      "metadata": {
        "colab": {
          "base_uri": "https://localhost:8080/"
        },
        "id": "AzAQ1AeWgre1",
        "outputId": "0d2344d4-ad44-4749-8826-56d88b4ba315"
      },
      "source": [
        "probability_model.fit(x_train, y_train, epochs=5)"
      ],
      "execution_count": null,
      "outputs": [
        {
          "output_type": "stream",
          "name": "stdout",
          "text": [
            "Epoch 1/5\n",
            "1875/1875 [==============================] - 4s 2ms/step - loss: 1.4898 - accuracy: 0.9768\n",
            "Epoch 2/5\n",
            "1875/1875 [==============================] - 4s 2ms/step - loss: 1.4860 - accuracy: 0.9789\n",
            "Epoch 3/5\n",
            "1875/1875 [==============================] - 4s 2ms/step - loss: 1.4836 - accuracy: 0.9810\n",
            "Epoch 4/5\n",
            "1875/1875 [==============================] - 4s 2ms/step - loss: 1.4817 - accuracy: 0.9820\n",
            "Epoch 5/5\n",
            "1875/1875 [==============================] - 4s 2ms/step - loss: 1.4808 - accuracy: 0.9826\n"
          ]
        },
        {
          "output_type": "execute_result",
          "data": {
            "text/plain": [
              "<keras.callbacks.History at 0x7fdcdc1cda10>"
            ]
          },
          "metadata": {},
          "execution_count": 16
        }
      ]
    },
    {
      "cell_type": "code",
      "metadata": {
        "colab": {
          "base_uri": "https://localhost:8080/"
        },
        "id": "rcn7HsCMgOzU",
        "outputId": "4ad31b55-ca57-4951-cf7c-c29fe22144a0"
      },
      "source": [
        "probability_model.evaluate(x_test,  y_test, verbose=2)"
      ],
      "execution_count": 35,
      "outputs": [
        {
          "output_type": "stream",
          "name": "stdout",
          "text": [
            "313/313 - 0s - loss: 1.4934 - accuracy: 0.9755 - 402ms/epoch - 1ms/step\n"
          ]
        },
        {
          "output_type": "execute_result",
          "data": {
            "text/plain": [
              "[1.4933741092681885, 0.9754999876022339]"
            ]
          },
          "metadata": {},
          "execution_count": 35
        }
      ]
    },
    {
      "cell_type": "markdown",
      "metadata": {
        "id": "AYBn09CQi1Eh"
      },
      "source": [
        "# Plot testing set"
      ]
    },
    {
      "cell_type": "code",
      "metadata": {
        "colab": {
          "base_uri": "https://localhost:8080/",
          "height": 268
        },
        "id": "y_2qOyInRq1T",
        "outputId": "c5aadcb6-16ab-4a87-857b-8528ed8190a3"
      },
      "source": [
        "for i in range(9):\n",
        "\t# define subplot\n",
        "\tplt.subplot(330 + 1 + i)\n",
        "\t# plot raw pixel data\n",
        "\tplt.imshow(x_test[i], cmap=plt.get_cmap('gray'))\n",
        "# show the figure\n",
        "plt.show()"
      ],
      "execution_count": 36,
      "outputs": [
        {
          "output_type": "display_data",
          "data": {
            "text/plain": [
              "<Figure size 432x288 with 9 Axes>"
            ],
            "image/png": "[encoded data removed]"
          },
          "metadata": {
            "needs_background": "light"
          }
        }
      ]
    },
    {
      "cell_type": "markdown",
      "metadata": {
        "id": "JNkkpFF3pYIG"
      },
      "source": [
        "## Predict test set with the model"
      ]
    },
    {
      "cell_type": "code",
      "metadata": {
        "id": "N8tb0_duS2ss"
      },
      "source": [
        "pred = model.predict(x_test[:25])"
      ],
      "execution_count": 37,
      "outputs": []
    },
    {
      "cell_type": "code",
      "metadata": {
        "colab": {
          "base_uri": "https://localhost:8080/"
        },
        "id": "DfjdCbKMqhB8",
        "outputId": "ab1129be-dec5-4a3c-dc03-3b17e180688c"
      },
      "source": [
        "np.argmax(pred, axis=1)"
      ],
      "execution_count": 38,
      "outputs": [
        {
          "output_type": "execute_result",
          "data": {
            "text/plain": [
              "array([7, 2, 1, 0, 4, 1, 4, 9, 5, 9, 0, 6, 9, 0, 1, 5, 9, 7, 3, 4, 9, 6,\n",
              "       6, 5, 4])"
            ]
          },
          "metadata": {},
          "execution_count": 38
        }
      ]
    },
    {
      "cell_type": "code",
      "metadata": {
        "id": "rD23cW_JsAAG"
      },
      "source": [
        "pred_list= np.argmax(pred, axis=1)"
      ],
      "execution_count": 39,
      "outputs": []
    },
    {
      "cell_type": "code",
      "metadata": {
        "colab": {
          "base_uri": "https://localhost:8080/"
        },
        "id": "BdzhbjdPSEjG",
        "outputId": "d22b33df-ea9e-4206-afbe-85601c863da3"
      },
      "source": [
        "for i in range(25):\n",
        "    print(\"prediction:\", y_test[i])"
      ],
      "execution_count": 40,
      "outputs": [
        {
          "output_type": "stream",
          "name": "stdout",
          "text": [
            "prediction: 7\n",
            "prediction: 2\n",
            "prediction: 1\n",
            "prediction: 0\n",
            "prediction: 4\n",
            "prediction: 1\n",
            "prediction: 4\n",
            "prediction: 9\n",
            "prediction: 5\n",
            "prediction: 9\n",
            "prediction: 0\n",
            "prediction: 6\n",
            "prediction: 9\n",
            "prediction: 0\n",
            "prediction: 1\n",
            "prediction: 5\n",
            "prediction: 9\n",
            "prediction: 7\n",
            "prediction: 3\n",
            "prediction: 4\n",
            "prediction: 9\n",
            "prediction: 6\n",
            "prediction: 6\n",
            "prediction: 5\n",
            "prediction: 4\n"
          ]
        }
      ]
    },
    {
      "cell_type": "markdown",
      "metadata": {
        "id": "6sGhs0LWi-9r"
      },
      "source": [
        "## Check up on predictions"
      ]
    },
    {
      "cell_type": "code",
      "metadata": {
        "colab": {
          "base_uri": "https://localhost:8080/",
          "height": 721
        },
        "id": "ZRk91BjPrp8C",
        "outputId": "08dfe459-92a8-4e55-a712-ca4731893111"
      },
      "source": [
        "num_row = 5\n",
        "num_col = 5 # plot images\n",
        "fig, axes = plt.subplots(num_row, num_col, figsize=(1.5*num_col,2*num_row))\n",
        "for i in range(25):\n",
        "    ax = axes[i//num_col, i%num_col]\n",
        "    ax.imshow(x_test[i], cmap='gray')\n",
        "    ax.set_title('Predict: {}'.format(pred_list[i]))\n",
        "    if(pred_list[i] != y_test[i]):\n",
        "        ax.set_xlabel('True: {}'.format(y_test[i]), color='Red', fontdict=dict(weight='bold'))\n",
        "    else:\n",
        "        ax.set_xlabel('True: {}'.format(y_test[i]), color='black', fontdict=dict(weight='bold') )\n",
        "plt.tight_layout()\n",
        "plt.show()"
      ],
      "execution_count": 41,
      "outputs": [
        {
          "output_type": "display_data",
          "data": {
            "text/plain": [
              "<Figure size 540x720 with 25 Axes>"
            ],
            "image/png": "[encoded data removed]"
          },
          "metadata": {
            "needs_background": "light"
          }
        }
      ]
    },
    {
      "cell_type": "markdown",
      "metadata": {
        "id": "bZcXlL0qfH2X"
      },
      "source": [
        "# Comparison with loss function"
      ]
    },
    {
      "cell_type": "markdown",
      "metadata": {
        "id": "RHFIr6lgoM5f"
      },
      "source": [
        "\n",
        "\n",
        "> CategoricalCrossentropy\n",
        "\n",
        "\n",
        "\n"
      ]
    },
    {
      "cell_type": "code",
      "metadata": {
        "colab": {
          "base_uri": "https://localhost:8080/"
        },
        "id": "IX2uMQdxdn2F",
        "outputId": "27a2b897-4882-4bc1-eb2a-66fe2b67ad0d"
      },
      "source": [
        "y_true = [[0, 1, 0], [0, 0, 1]]\n",
        "y_pred = [[0.05, 0.95, 0], [0.1, 0.8, 0.1]]\n",
        "cce = tf.keras.losses.CategoricalCrossentropy()\n",
        "cce(y_true, y_pred).numpy()"
      ],
      "execution_count": 42,
      "outputs": [
        {
          "output_type": "execute_result",
          "data": {
            "text/plain": [
              "1.1769392"
            ]
          },
          "metadata": {},
          "execution_count": 42
        }
      ]
    },
    {
      "cell_type": "markdown",
      "metadata": {
        "id": "D-zNnlCJoqPT"
      },
      "source": [
        "\n",
        "\n",
        "> SparseCategoricalCrossentropy\n",
        "\n"
      ]
    },
    {
      "cell_type": "code",
      "metadata": {
        "colab": {
          "base_uri": "https://localhost:8080/"
        },
        "id": "SIkFNRVLdtLV",
        "outputId": "fcef2a07-bab6-43f9-f32a-82df6afa353b"
      },
      "source": [
        "y_true = [1, 2]\n",
        "y_pred = [[0.05, 0.95, 0], [0.1, 0.8, 0.1]]\n",
        "scce = tf.keras.losses.SparseCategoricalCrossentropy()\n",
        "scce(y_true, y_pred).numpy()"
      ],
      "execution_count": 43,
      "outputs": [
        {
          "output_type": "execute_result",
          "data": {
            "text/plain": [
              "1.1769392"
            ]
          },
          "metadata": {},
          "execution_count": 43
        }
      ]
    },
    {
      "cell_type": "markdown",
      "metadata": {
        "id": "X7SdRqZohipS"
      },
      "source": [
        "# Example of ReLU"
      ]
    },
    {
      "cell_type": "code",
      "metadata": {
        "id": "C46WSFMqfwtd"
      },
      "source": [
        "foo = tf.constant([-10, -5, 0.0, 5, 10], dtype = tf.float32)"
      ],
      "execution_count": 44,
      "outputs": []
    },
    {
      "cell_type": "code",
      "metadata": {
        "colab": {
          "base_uri": "https://localhost:8080/"
        },
        "id": "-TcOLWHXgGfd",
        "outputId": "bdd86e09-b745-41ca-f956-c8a737f89b27"
      },
      "source": [
        "foo"
      ],
      "execution_count": 45,
      "outputs": [
        {
          "output_type": "execute_result",
          "data": {
            "text/plain": [
              "<tf.Tensor: shape=(5,), dtype=float32, numpy=array([-10.,  -5.,   0.,   5.,  10.], dtype=float32)>"
            ]
          },
          "metadata": {},
          "execution_count": 45
        }
      ]
    },
    {
      "cell_type": "code",
      "metadata": {
        "colab": {
          "base_uri": "https://localhost:8080/"
        },
        "id": "3NkGDdxCgAfI",
        "outputId": "346e19fb-ebd4-4e9f-e7ac-f72a45048507"
      },
      "source": [
        "tf.keras.activations.relu(foo).numpy()"
      ],
      "execution_count": 46,
      "outputs": [
        {
          "output_type": "execute_result",
          "data": {
            "text/plain": [
              "array([ 0.,  0.,  0.,  5., 10.], dtype=float32)"
            ]
          },
          "metadata": {},
          "execution_count": 46
        }
      ]
    },
    {
      "cell_type": "code",
      "metadata": {
        "colab": {
          "base_uri": "https://localhost:8080/"
        },
        "id": "Egn21a04gC2I",
        "outputId": "747fe505-bb02-49e8-c237-12ad6f3e56b5"
      },
      "source": [
        "tf.keras.activations.relu(foo, alpha=0.5).numpy() # f(x) = alpha * x for x < 0, f(x) = x for x >= 0"
      ],
      "execution_count": 47,
      "outputs": [
        {
          "output_type": "execute_result",
          "data": {
            "text/plain": [
              "array([-5. , -2.5,  0. ,  5. , 10. ], dtype=float32)"
            ]
          },
          "metadata": {},
          "execution_count": 47
        }
      ]
    },
    {
      "cell_type": "code",
      "metadata": {
        "id": "YpV600Mmqgbn"
      },
      "source": [
        "tf.keras.activations.relu?"
      ],
      "execution_count": 48,
      "outputs": []
    },
    {
      "cell_type": "markdown",
      "metadata": {
        "id": "1uw3tifOny2S"
      },
      "source": [
        "# Example of softmax\n",
        "The softmax of each vector x is computed as\n",
        "`exp(x) / tf.reduce_sum(exp(x))`.\n",
        "\n",
        "Softmax converts a vector of values to a probability distribution.\n",
        "The elements of the output vector are in range (0, 1) and sum to 1\n"
      ]
    },
    {
      "cell_type": "code",
      "metadata": {
        "id": "7zsquBW9l8QT"
      },
      "source": [
        "inputs = tf.random.normal(shape=(3, 5))\n",
        "outputs = tf.keras.activations.softmax(inputs)"
      ],
      "execution_count": null,
      "outputs": []
    },
    {
      "cell_type": "code",
      "metadata": {
        "colab": {
          "base_uri": "https://localhost:8080/"
        },
        "id": "M3txTEKLmQPR",
        "outputId": "d5fc7e00-f7ab-4eab-d6b7-05a7cccb7403"
      },
      "source": [
        "inputs"
      ],
      "execution_count": null,
      "outputs": [
        {
          "output_type": "execute_result",
          "data": {
            "text/plain": [
              "<tf.Tensor: shape=(3, 5), dtype=float32, numpy=\n",
              "array([[-0.9322864 , -0.33996594, -1.116526  ,  0.87566936, -0.8631477 ],\n",
              "       [-1.8972509 ,  0.30405876, -2.5357833 ,  0.50158286, -0.9673294 ],\n",
              "       [ 0.62855124,  1.819423  ,  0.16648708, -0.2461492 , -0.13735281]],\n",
              "      dtype=float32)>"
            ]
          },
          "metadata": {},
          "execution_count": 31
        }
      ]
    },
    {
      "cell_type": "code",
      "metadata": {
        "colab": {
          "base_uri": "https://localhost:8080/"
        },
        "id": "Rp0vsCINmCmR",
        "outputId": "6a57fe53-cee2-4ab7-e988-45e781574fe3"
      },
      "source": [
        "outputs"
      ],
      "execution_count": null,
      "outputs": [
        {
          "output_type": "execute_result",
          "data": {
            "text/plain": [
              "<tf.Tensor: shape=(3, 5), dtype=float32, numpy=\n",
              "array([[0.09251148, 0.16727734, 0.07694517, 0.5641321 , 0.0991339 ],\n",
              "       [0.04147735, 0.3748242 , 0.02190281, 0.45667922, 0.10511647],\n",
              "       [0.17235942, 0.5670535 , 0.10858332, 0.07187161, 0.08013221]],\n",
              "      dtype=float32)>"
            ]
          },
          "metadata": {},
          "execution_count": 30
        }
      ]
    },
    {
      "cell_type": "code",
      "metadata": {
        "colab": {
          "base_uri": "https://localhost:8080/"
        },
        "id": "WLVt_qeZ3qNK",
        "outputId": "e56183d1-ce1a-4d3f-bc3c-ec0f64af9487"
      },
      "source": [
        "inp = np.asarray([-6.9282, 2.1847])\n",
        "layer = tf.keras.layers.Softmax()\n",
        "float_formatter = \"{:.4f}\".format\n",
        "np.set_printoptions(formatter={'float_kind':float_formatter})\n",
        "layer(inp).numpy()"
      ],
      "execution_count": null,
      "outputs": [
        {
          "output_type": "execute_result",
          "data": {
            "text/plain": [
              "array([0.0001, 0.9999], dtype=float32)"
            ]
          },
          "metadata": {},
          "execution_count": 13
        }
      ]
    },
    {
      "cell_type": "markdown",
      "metadata": {
        "id": "hNH0-DR0lZRw"
      },
      "source": [
        "# Simple expressions and interpretation of the gradient\n",
        "[Ref](https://cs231n.github.io/optimization-2/#intuitive)\n",
        "\n",
        "**Backpropagation** can thus be thought of as gates communicating to each other (through the gradient signal) whether they want their **outputs to increase or decrease (and how strongly)**, so as to make the final output value higher."
      ]
    },
    {
      "cell_type": "code",
      "metadata": {
        "id": "mWm-ST3AkfII"
      },
      "source": [
        "import torch"
      ],
      "execution_count": null,
      "outputs": []
    },
    {
      "cell_type": "code",
      "metadata": {
        "colab": {
          "base_uri": "https://localhost:8080/"
        },
        "id": "Lpe8yBAtVeFd",
        "outputId": "78c1be7c-5def-42c4-cc91-19e445cc33af"
      },
      "source": [
        "# set some inputs\n",
        "x = -2; y = 5; z = -4\n",
        "\n",
        "# perform the forward pass\n",
        "q = x + y # q becomes 3\n",
        "f = q * z # f becomes -12\n",
        "\n",
        "# perform the backward pass (backpropagation) in reverse order:\n",
        "# first backprop through f = q * z\n",
        "dfdz = q # df/dz = q, so gradient on z becomes 3\n",
        "dfdq = z # df/dq = z, so gradient on q becomes -4\n",
        "dqdx = 1.0\n",
        "dqdy = 1.0\n",
        "# now backprop through q = x + y\n",
        "dfdx = dfdq * dqdx  # The multiplication here is the chain rule!\n",
        "dfdy = dfdq * dqdy\n",
        "print(\"gradient of x =\", dfdx)\n",
        "print(\"gradient of y =\", dfdy)\n",
        "print(\"gradient of z =\", dfdz)"
      ],
      "execution_count": null,
      "outputs": [
        {
          "output_type": "stream",
          "name": "stdout",
          "text": [
            "gradient of x = -4.0\n",
            "gradient of y = -4.0\n",
            "gradient of z = 3\n"
          ]
        }
      ]
    },
    {
      "cell_type": "code",
      "metadata": {
        "colab": {
          "base_uri": "https://localhost:8080/"
        },
        "id": "0U0iSX19iSz-",
        "outputId": "255212f9-0b17-41bf-a6ce-34f4a132f37a"
      },
      "source": [
        "x = torch.tensor(-2.0, requires_grad=True)\n",
        "y = torch.tensor(5.0, requires_grad=True)\n",
        "z = torch.tensor(-4.0, requires_grad=True)\n",
        "f = (x+y)*z\n",
        "f.backward()\n",
        "print(\"gradient of x =\", x.grad)\n",
        "print(\"gradient of y =\", y.grad)\n",
        "print(\"gradient of z =\", z.grad)"
      ],
      "execution_count": null,
      "outputs": [
        {
          "output_type": "stream",
          "name": "stdout",
          "text": [
            "gradient of x = tensor(-4.)\n",
            "gradient of y = tensor(-4.)\n",
            "gradient of z = tensor(3.)\n"
          ]
        }
      ]
    },
    {
      "cell_type": "code",
      "metadata": {
        "colab": {
          "base_uri": "https://localhost:8080/"
        },
        "id": "EiYFpSoBX-Xd",
        "outputId": "27bae1f3-e237-438e-e45e-d61be1660f6b"
      },
      "source": [
        "x = torch.tensor(2.0, requires_grad=True)\n",
        "y = x**2\n",
        "print(\"gradient of x =\", x.grad)\n",
        "y.backward()\n",
        "print(\"gradient of x =\", x.grad)\n",
        "# y.backward(retain_graph=True)\n",
        "# print(\"gradient of x =\", x.grad)\n",
        "# y.backward(retain_graph=True)\n",
        "# print(\"gradient of x =\", x.grad)"
      ],
      "execution_count": null,
      "outputs": [
        {
          "output_type": "stream",
          "name": "stdout",
          "text": [
            "gradient of x = None\n",
            "gradient of x = tensor(4.)\n"
          ]
        }
      ]
    },
    {
      "cell_type": "markdown",
      "metadata": {
        "id": "mmPPaHHMoJVT"
      },
      "source": [
        "`To reduce memory usage, during the .backward() call, all the intermediary results are deleted when they are not needed anymore. Hence if you try to call .backward() again, the intermediary results don’t exist and the backward pass cannot be performed (and you get the error you see).`"
      ]
    },
    {
      "cell_type": "code",
      "metadata": {
        "colab": {
          "base_uri": "https://localhost:8080/"
        },
        "id": "s9FcN-GOZfyy",
        "outputId": "1c8dbb40-203f-4c98-adee-be942c46d91c"
      },
      "source": [
        "x = torch.tensor([1.0, 2.0],requires_grad=True)\n",
        "y = (x + 2)**2\n",
        "z = torch.mean(y)\n",
        "z.backward(retain_graph=True)\n",
        "# z.backward(retain_graph=True)\n",
        "z.backward()\n",
        "x.grad"
      ],
      "execution_count": null,
      "outputs": [
        {
          "output_type": "execute_result",
          "data": {
            "text/plain": [
              "tensor([6., 8.])"
            ]
          },
          "metadata": {},
          "execution_count": 22
        }
      ]
    }
  ]
}